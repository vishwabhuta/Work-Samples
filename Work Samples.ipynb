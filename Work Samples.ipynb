{
 "cells": [
  {
   "cell_type": "markdown",
   "metadata": {},
   "source": [
    "# <p style=\"text-align: center;\">Work Samples</p>\n",
    "## <p style=\"text-align: center;\">Vishwa Bhuta</p>"
   ]
  },
  {
   "cell_type": "markdown",
   "metadata": {},
   "source": [
    "## Matrix Factorization for Rating Prediction\n",
    "\n",
    "The movielens dataset contains 1 million movie ratings from several thousand users. We will be using *k*-rank matrix factorization to estimate this dataset as the product $X=UV^T$, where *U* and *V* have only $k$ columns.\n",
    "\n",
    "1) You can download the movielens 1M dataset from https://datahub.io/dataset/movielens. It has been split into training and test sets, and converted to matrix format where the rows correspond to users and the columns to movies. Note that most of the entries are NaNs, indicating that these ratings are missing.\n",
    "\n",
    "2) Scikit-learn is a little behind for recommender systems, and doesn't have any method to factorize matrices with missing data. Which means you get to code it! You will have to:\n",
    "* Set up initial guesses for the *U* and *V* matrices. I suggest small random values.\n",
    "* Find a suitable learning rate for the descent. A learning rate that is too large will probably blow up.\n",
    "* Come up with a stopping policy\n",
    "* Code the descent algorithm\n",
    "\n",
    "3) Using your SGD algorithm, apply 2-rank matrix factorization on the filled training matrix. Calculate the RMSE of this model on the training data and on the test data (separately). The optimal score on the training data is around .86 RMSE; your version of gradient descent must go at least below .91 RMSE.\n",
    "\n",
    "4) You should notice some overfitting. Because matrix factorization learns separate scores for each movie, a movie with very few reviews may be easily overfit. You may want to only predict ratings when you have enough information to reach a good conclusion. Recalculate the RMSE on the test data, specifically for movies with at least 50 reviews (don't retrain the models). Also report the percent of movies that are still included (after cutting those with < 50 reviews), and the percent of test ratings that are still included.\n",
    "\n",
    "5) Repeat steps 3 and 4 with 5-rank factorization. Display training and test RMSE."
   ]
  },
  {
   "cell_type": "code",
   "execution_count": 1,
   "metadata": {
    "collapsed": true
   },
   "outputs": [],
   "source": [
    "import numpy as np\n",
    "import pandas as pd\n",
    "titles = pd.read_csv('lens1m_361M_titles.csv')\n",
    "test_X = np.load('lens1m_361M_test.npy')\n",
    "train_X = np.load('lens1m_361M_train.npy')"
   ]
  },
  {
   "cell_type": "code",
   "execution_count": 2,
   "metadata": {
    "collapsed": true
   },
   "outputs": [],
   "source": [
    "#creating the algorithm\n",
    "class sgdMatrixFact():\n",
    "    \"\"\"Train a matrix factorization model to predict empty \n",
    "        entries in a matrix using stochastic gradient descent. \n",
    "        Params:\n",
    "        K (int): number of latent features\n",
    "        n_epochs (int): max number of epochs the model can run while training\n",
    "        learning_rate (float): learning rate for SGD\"\"\"\n",
    "    def __init__(self, K, n_epochs, learning_rate):\n",
    "        self.K = K\n",
    "        self.learning_rate = learning_rate\n",
    "        self.n_epochs = n_epochs\n",
    "    \n",
    "    def fit(self,X_train):\n",
    "        \"\"\"The Fit function takes in a NxM matrix and returns 2 matrices, U and V, whose dot product\n",
    "            is the approximation of the original matrix. It also returns a dictionary of the training\n",
    "            RMSEs with each epoch\"\"\"\n",
    "        self.X_train = X_train\n",
    "        n, m = X_train.shape\n",
    "        U = np.random.rand(n,self.K)/1000\n",
    "        V = np.random.rand(m,self.K)/1000\n",
    "        V = V.T #transpose V matrix\n",
    "        \n",
    "        train_rmse = {}\n",
    "        for epoch in range(self.n_epochs):\n",
    "            print \"Working on epoch\",epoch\n",
    "            for i in xrange(len(X_train)):\n",
    "                for j in xrange(len(X_train[i])):\n",
    "                    if X_train[i][j]>0:\n",
    "                        L = X_train[i,j] - np.dot(U[i,:],V[:,j])  # Calculate error for gradient\n",
    "                        for k in range(self.K):\n",
    "                            U[i][k] = U[i][k] + self.learning_rate*(2*L*V[k][j]) # Update latent U feature matrix\n",
    "                            V[k][j] = V[k][j] + self.learning_rate*(2*L*U[i][k]) # Update latent V feature matrix\n",
    "        \n",
    "            X_hat = np.dot(U,V)\n",
    "            rmse = np.sqrt(np.nanmean((X_train - X_hat)**2))\n",
    "            train_rmse[epoch]=rmse\n",
    "            try:\n",
    "                if train_rmse[epoch-1]-rmse <= 0.001:\n",
    "                    break #Stopping rule: break loop if rmse between epochs isn't improving\n",
    "            except:\n",
    "                pass\n",
    "        \n",
    "        self.train_rmse = train_rmse\n",
    "        self.U = U\n",
    "        self.V = V\n",
    "        V = V.T #transpose V matrix back to normal\n",
    "        return U,V,train_rmse\n",
    "    \n",
    "    def predict(self,X_test):\n",
    "        \"\"\"The Predict function uses the U and V matrices derived from the training matrix \n",
    "            and uses it to approximate empty entries in a testing matrix of the same shape. \n",
    "            Returns the approximated matrix and the test RMSE.\"\"\"\n",
    "        X_hat = np.dot(U,V.T)\n",
    "        test_rmse = np.sqrt(np.nanmean((X_test - X_hat)**2))\n",
    "        \n",
    "        self.X_hat = X_hat\n",
    "        self.test_rmse = test_rmse\n",
    "        return X_hat,test_rmse      \n"
   ]
  },
  {
   "cell_type": "code",
   "execution_count": 3,
   "metadata": {
    "collapsed": false,
    "scrolled": true
   },
   "outputs": [
    {
     "name": "stdout",
     "output_type": "stream",
     "text": [
      "Working on epoch 0\n",
      "Working on epoch 1\n"
     ]
    },
    {
     "name": "stderr",
     "output_type": "stream",
     "text": [
      "C:\\Users\\Vishwa\\Anaconda2\\lib\\site-packages\\numpy\\lib\\nanfunctions.py:675: RuntimeWarning: Mean of empty slice\n",
      "  warnings.warn(\"Mean of empty slice\", RuntimeWarning)\n"
     ]
    },
    {
     "name": "stdout",
     "output_type": "stream",
     "text": [
      "Working on epoch 2\n",
      "Working on epoch 3\n",
      "Working on epoch 4\n",
      "Working on epoch 0\n",
      "Working on epoch 1\n",
      "Working on epoch 2\n",
      "Working on epoch 3\n",
      "Working on epoch 4\n",
      "Working on epoch 0\n",
      "Working on epoch 1\n",
      "Working on epoch 2\n",
      "Working on epoch 3\n",
      "Working on epoch 4\n",
      "Working on epoch 0\n",
      "Working on epoch 1\n",
      "Working on epoch 2\n",
      "Working on epoch 3\n",
      "Working on epoch 4\n",
      "Working on epoch 0\n",
      "Working on epoch 1\n",
      "Working on epoch 2\n",
      "Working on epoch 3\n",
      "Working on epoch 4\n",
      "Working on epoch 0\n",
      "Working on epoch 1\n",
      "Working on epoch 2\n",
      "Working on epoch 3\n",
      "Working on epoch 4\n",
      "Working on epoch 0\n",
      "Working on epoch 1\n",
      "Working on epoch 0\n",
      "Working on epoch 1\n",
      "Working on epoch 0\n",
      "Working on epoch 1\n",
      "Working on epoch 0\n",
      "Working on epoch 1\n",
      "Working on epoch 2\n",
      "Working on epoch 3\n",
      "Working on epoch 4\n",
      "Working on epoch 0\n",
      "Working on epoch 1\n",
      "Working on epoch 2\n",
      "Working on epoch 3\n",
      "Working on epoch 4\n",
      "Working on epoch 0\n",
      "Working on epoch 1\n",
      "Working on epoch 2\n",
      "Working on epoch 3\n",
      "Working on epoch 4\n",
      "Working on epoch 0\n",
      "Working on epoch 1\n",
      "Working on epoch 2\n",
      "Working on epoch 3\n",
      "Working on epoch 4\n",
      "Working on epoch 0\n",
      "Working on epoch 1\n",
      "Working on epoch 2\n",
      "Working on epoch 3\n",
      "Working on epoch 4\n",
      "Working on epoch 0\n",
      "Working on epoch 1\n",
      "Working on epoch 2\n",
      "Working on epoch 3\n",
      "Working on epoch 4\n"
     ]
    }
   ],
   "source": [
    "#cross-validating to find an appropriate learning rate\n",
    "learning_rate = np.linspace(0.01,0.001,15)\n",
    "cross_val = {}\n",
    "for l in learning_rate:\n",
    "    mod = sgdMatrixFact(K=2,n_epochs = 5,learning_rate = l)\n",
    "    U,V,rmse =  mod.fit(train_X)\n",
    "    cross_val[l]=rmse"
   ]
  },
  {
   "cell_type": "code",
   "execution_count": 4,
   "metadata": {
    "collapsed": false
   },
   "outputs": [
    {
     "name": "stdout",
     "output_type": "stream",
     "text": [
      "Working on epoch 0\n",
      "Working on epoch 1\n",
      "Working on epoch 2\n",
      "Working on epoch 3\n",
      "Working on epoch 4\n",
      "Working on epoch 5\n",
      "Working on epoch 6\n",
      "Working on epoch 7\n",
      "Working on epoch 8\n",
      "Working on epoch 9\n",
      "Working on epoch 10\n",
      "Working on epoch 11\n",
      "Working on epoch 12\n",
      "Working on epoch 13\n",
      "Working on epoch 14\n",
      "Working on epoch 15\n",
      "Working on epoch 16\n",
      "Working on epoch 17\n",
      "Working on epoch 18\n",
      "Working on epoch 19\n"
     ]
    }
   ],
   "source": [
    "#Since learning rate of 0.004 had the best RMSE, we use that, but increase the number of epochs to improve RMSE further.\n",
    "#large number of epochs since stopping rule will take care of it if there are too many\n",
    "mod = sgdMatrixFact(K=2,n_epochs = 20,learning_rate = 0.0042142857142857138) \n",
    "U,V,rmse =  mod.fit(train_X)\n",
    "x_hat,test_rmse = mod.predict(test_X)"
   ]
  },
  {
   "cell_type": "code",
   "execution_count": 5,
   "metadata": {
    "collapsed": false
   },
   "outputs": [
    {
     "name": "stdout",
     "output_type": "stream",
     "text": [
      "{0: 2.5847790410478253, 1: 1.0012741401588485, 2: 0.93832217698040454, 3: 0.92955085858233755, 4: 0.92573497953761441, 5: 0.92365669427811337, 6: 0.92227537722276642, 7: 0.92098104343462051, 8: 0.91898879987833881, 9: 0.91525068528916198, 10: 0.90990512467290396, 11: 0.9046258519122623, 12: 0.90007217469601042, 13: 0.89631658652416624, 14: 0.89336419191185357, 15: 0.89109710775621731, 16: 0.88935965770263214, 17: 0.88801549004491898, 18: 0.88696137696163013, 19: 0.88612385725623921}\n",
      "0.910543535132\n"
     ]
    }
   ],
   "source": [
    "print rmse\n",
    "print test_rmse"
   ]
  },
  {
   "cell_type": "code",
   "execution_count": 6,
   "metadata": {
    "collapsed": true
   },
   "outputs": [],
   "source": [
    "#remove columns (movies) with fewer than 50 reviews, as they are too sparse and can lead to overfitting\n",
    "cols_to_use=[]\n",
    "for col in range(test_X.shape[1]):\n",
    "    if len(test_X[:,col][np.isfinite(test_X[:,col])])>=50:\n",
    "        cols_to_use.append(col)\n",
    "\n",
    "test_X_50 = test_X[:,cols_to_use]"
   ]
  },
  {
   "cell_type": "code",
   "execution_count": 7,
   "metadata": {
    "collapsed": false
   },
   "outputs": [
    {
     "name": "stdout",
     "output_type": "stream",
     "text": [
      "Test RMSE for Movies with over 50 reviews: 0.901313838222\n"
     ]
    }
   ],
   "source": [
    "x_hat_50 = x_hat[:,cols_to_use]\n",
    "print \"Test RMSE for Movies with over 50 reviews:\", np.sqrt(np.nanmean((test_X_50 - x_hat_50)**2))"
   ]
  },
  {
   "cell_type": "code",
   "execution_count": 8,
   "metadata": {
    "collapsed": false
   },
   "outputs": [
    {
     "name": "stdout",
     "output_type": "stream",
     "text": [
      "Percent of movies still included: 30.79%\n",
      "Percent of ratings still included: 81.19%\n"
     ]
    }
   ],
   "source": [
    "print \"Percent of movies still included: {:.2f}%\".format((float(test_X_50.shape[1])/test_X.shape[1])*100)\n",
    "print \"Percent of ratings still included: {:.2f}%\".format((float(len(test_X_50[np.isfinite(test_X_50)]))/len(test_X[np.isfinite(test_X)]))*100)"
   ]
  },
  {
   "cell_type": "code",
   "execution_count": 9,
   "metadata": {
    "collapsed": false
   },
   "outputs": [
    {
     "name": "stdout",
     "output_type": "stream",
     "text": [
      "Working on epoch 0\n",
      "Working on epoch 1\n",
      "Working on epoch 2\n",
      "Working on epoch 3\n",
      "Working on epoch 4\n",
      "Working on epoch 5\n",
      "Working on epoch 6\n",
      "Working on epoch 7\n",
      "Working on epoch 8\n",
      "Working on epoch 9\n",
      "Working on epoch 10\n",
      "Working on epoch 11\n",
      "Working on epoch 12\n",
      "Working on epoch 13\n",
      "Working on epoch 14\n",
      "Working on epoch 15\n",
      "Working on epoch 16\n",
      "Working on epoch 17\n",
      "Working on epoch 18\n"
     ]
    }
   ],
   "source": [
    "#re-running algorithm with 5-rank matrix factorization (ie. with 5 latent features)\n",
    "mod1 = sgdMatrixFact(K=5,n_epochs = 20,learning_rate = 0.0042142857142857138) \n",
    "U1,V1,rmse1 =  mod.fit(train_X)\n",
    "x_hat1,test_rmse1 = mod.predict(test_X)"
   ]
  },
  {
   "cell_type": "code",
   "execution_count": 10,
   "metadata": {
    "collapsed": false
   },
   "outputs": [
    {
     "name": "stdout",
     "output_type": "stream",
     "text": [
      "{0: 2.5871217438647385, 1: 1.0011875562054089, 2: 0.93828832770346104, 3: 0.92950149835883622, 4: 0.9255961807861498, 5: 0.92318133681420578, 6: 0.92063777572287198, 7: 0.91636914367873568, 8: 0.91065004904367131, 9: 0.90587371916023884, 10: 0.90214822813456752, 11: 0.89902206063440537, 12: 0.89636812571023283, 13: 0.89410958901744819, 14: 0.89218386921167148, 15: 0.890545048470338, 16: 0.88915928158941193, 17: 0.88799822020157559, 18: 0.88703498683374316}\n",
      "0.910543535132\n"
     ]
    }
   ],
   "source": [
    "print rmse1\n",
    "print test_rmse1"
   ]
  },
  {
   "cell_type": "code",
   "execution_count": 11,
   "metadata": {
    "collapsed": false
   },
   "outputs": [
    {
     "name": "stdout",
     "output_type": "stream",
     "text": [
      "Test RMSE for Movies with over 50 reviews: 0.901313838222\n"
     ]
    }
   ],
   "source": [
    "x_hat1_50 = x_hat1[:,cols_to_use]\n",
    "print \"Test RMSE for Movies with over 50 reviews:\", np.sqrt(np.nanmean((test_X_50 - x_hat1_50)**2))"
   ]
  },
  {
   "cell_type": "markdown",
   "metadata": {},
   "source": [
    "## MNIST\n",
    "In this question you classify hand-written digits. We want to use MNIST data set and try Multi-layer Perceptron (MLP) classifier using sklearn package in Python. In order to simplify the problem, we classify digits into 8 classes (digits 0,1,2,...7) and ignore records for digits 8 and 9.  Use the code below to access the data set and extract data with labels 0 to 7, and split the data set into train set and test set.\n",
    "\n",
    "1. Fit a Multilayer Perceptron Classifier using the standard options on sklearn's MLP on train data. Report the root MSE for both train and test data.\n",
    "                    \n",
    "2. To find better parameters for the MLP Classifier model, try an exhaustive search over all parameters of the data. Use sklearn's GridSearchCV to find the best subset of parameters from the set:\n",
    "                    { alpha = [0.1,0.01,0.001], activation : ['logistic', 'relu'] }\n",
    "    Which parameters resulted in a more accurate model? Can you explain why? \n",
    "\n",
    "3. Select 5 misclassified images and display them."
   ]
  },
  {
   "cell_type": "code",
   "execution_count": 12,
   "metadata": {
    "collapsed": true
   },
   "outputs": [],
   "source": [
    "import matplotlib.pyplot as plt\n",
    "from sklearn.datasets import fetch_mldata\n",
    "from sklearn.model_selection import (train_test_split,KFold)\n",
    "from sklearn.neural_network import MLPClassifier\n",
    "%matplotlib inline\n",
    "\n",
    "mnist = fetch_mldata(\"MNIST original\")\n",
    "# rescale the data, use the traditional train/test split\n",
    "X = (mnist.data / 255.)[:48200]\n",
    "y = mnist.target[:48200]\n",
    "\n",
    "X_train, X_test, y_train, y_test = train_test_split(X,y,test_size = 0.1, random_state=42)"
   ]
  },
  {
   "cell_type": "code",
   "execution_count": 13,
   "metadata": {
    "collapsed": false
   },
   "outputs": [
    {
     "name": "stdout",
     "output_type": "stream",
     "text": [
      "Iteration 1, loss = 0.24522635\n",
      "Iteration 2, loss = 0.10589741\n",
      "Iteration 3, loss = 0.07488529\n",
      "Iteration 4, loss = 0.05895084\n",
      "Iteration 5, loss = 0.04782934\n",
      "Iteration 6, loss = 0.03945315\n",
      "Iteration 7, loss = 0.03320940\n",
      "Iteration 8, loss = 0.02872414\n",
      "Iteration 9, loss = 0.02451143\n",
      "Iteration 10, loss = 0.02132893\n"
     ]
    },
    {
     "name": "stderr",
     "output_type": "stream",
     "text": [
      "C:\\Users\\Vishwa\\Anaconda2\\lib\\site-packages\\sklearn\\neural_network\\multilayer_perceptron.py:563: ConvergenceWarning: Stochastic Optimizer: Maximum iterations reached and the optimization hasn't converged yet.\n",
      "  % (), ConvergenceWarning)\n"
     ]
    },
    {
     "name": "stdout",
     "output_type": "stream",
     "text": [
      "Training set score defaults Params: 0.995620\n",
      "Test set score defaults Params: 0.980290\n"
     ]
    }
   ],
   "source": [
    "from sklearn.metrics import mean_squared_error\n",
    "from math import sqrt\n",
    "\n",
    "MLP = MLPClassifier(hidden_layer_sizes=(50,), max_iter=10, alpha=1e-4, solver='sgd', \\\n",
    "                   verbose=10, tol=1e-4, random_state=42,learning_rate_init=.1)\n",
    "mod_fit = MLP.fit(X_train,y_train)\n",
    "mod_pred_is = mod_fit.predict(X_train)\n",
    "mod_pred_os = mod_fit.predict(X_test)\n",
    "print(\"Training set score defaults Params: %f\" % MLP.score(X_train, y_train))\n",
    "print(\"Test set score defaults Params: %f\" % MLP.score(X_test, y_test))"
   ]
  },
  {
   "cell_type": "code",
   "execution_count": 14,
   "metadata": {
    "collapsed": true
   },
   "outputs": [],
   "source": [
    "from sklearn.model_selection import GridSearchCV\n",
    "params = {'alpha':[0.1,0.01,0.001], 'activation':['logistic', 'relu']}\n",
    "crossVal = GridSearchCV(MLPClassifier(), params)\n",
    "CVModel = crossVal.fit(X_train,y_train)"
   ]
  },
  {
   "cell_type": "code",
   "execution_count": 15,
   "metadata": {
    "collapsed": false
   },
   "outputs": [
    {
     "name": "stdout",
     "output_type": "stream",
     "text": [
      "Test set score w/CV Params: 0.983817\n",
      "Best Params: {'alpha': 0.1, 'activation': 'relu'}\n"
     ]
    }
   ],
   "source": [
    "CVmod_pred_os = CVModel.predict(X_test)\n",
    "print(\"Test set score w/CV Params: %f\" % CVModel.score(X_test, y_test))\n",
    "print \"Best Params:\", CVModel.best_params_"
   ]
  },
  {
   "cell_type": "markdown",
   "metadata": {},
   "source": [
    "#### Explanation\n",
    "\n",
    "Given the accuracy score, we see the model with the cross-validated parameters do better (albeit only very slightly). The cross-validation shows, as you see above, that the best parameters are alpha=0.1 (compared to 0.0001 in default) and activation='relu' (same as default). This means that we have increased our regularization penalty, which decreases the possibility of overfitting, thereby increasing our out-of-sample accuracy. In terms of the activation, relu (the default parameter) was also found to be the best in cross-validation. The ReLU function maps negative inputs to 0 and positive outputs to f(x) = x, whereas the logistic function has a sigmoid threshold. One of the differences between relu and logistic activation function is that relu is faster at learning due to its constant gradient (not vanishing gradient like in logistic), which can be better for us here since we're only doing 10 iterations (probably why this was chosen to be better)"
   ]
  },
  {
   "cell_type": "code",
   "execution_count": 16,
   "metadata": {
    "collapsed": true
   },
   "outputs": [],
   "source": [
    "wrong_image_index = []\n",
    "wrong_image_pred = []\n",
    "wrong_image_actual = []\n",
    "for i,pred in enumerate(CVmod_pred_os):\n",
    "    if pred != y_test[i]:\n",
    "        wrong_image_index.append(i)\n",
    "        wrong_image_pred.append(pred)\n",
    "        wrong_image_actual.append(y_test[i])"
   ]
  },
  {
   "cell_type": "code",
   "execution_count": 17,
   "metadata": {
    "collapsed": false
   },
   "outputs": [
    {
     "data": {
      "image/png": "[encoded data removed]",
      "text/plain": [
       "<matplotlib.figure.Figure at 0x1c234be0>"
      ]
     },
     "metadata": {},
     "output_type": "display_data"
    }
   ],
   "source": [
    "import pandas as pd\n",
    "import numpy as np\n",
    "import matplotlib\n",
    "\n",
    "fig = plt.figure(figsize=(15, 8))\n",
    "\n",
    "for i,pixels in enumerate(X_test[wrong_image_index[:5]]):\n",
    "    image = pixels.reshape((28, 28))\n",
    "    # Plot\n",
    "    ax = fig.add_subplot(2,3,i+1)\n",
    "    ax.set_title('True Label:{label}, Prediction:{pred}'.format(label=wrong_image_actual[i], pred=wrong_image_pred[i]))\n",
    "    ax.imshow(image, cmap='gray')\n",
    "\n",
    "plt.show()\n"
   ]
  },
  {
   "cell_type": "markdown",
   "metadata": {},
   "source": [
    "## Text Analytics"
   ]
  },
  {
   "cell_type": "markdown",
   "metadata": {},
   "source": [
    "In this assignment you are an analytics consultant to a (i) brand manager, (ii) product manager and (iii) advertising manager. Your job is to give advice/insights to these individuals based on the analysis of social media conversations. We use cars as an example of a “high involvement” good (for high involvement goods, people use social media heavily for awareness building and research). Our data is fetched from an Edmunds forum discussing entry level luxury sedans. \n",
    "\n",
    "We are looking at Lifts (ie. the probability that two words co-occur, as opposed to occuring otherwise) to tell us which brands are likely to be compared to each other. This can be useful, but does not point us to the sentiments expressed in the mentions."
   ]
  },
  {
   "cell_type": "code",
   "execution_count": 18,
   "metadata": {
    "collapsed": false
   },
   "outputs": [
    {
     "name": "stderr",
     "output_type": "stream",
     "text": [
      "C:\\Users\\Vishwa\\Anaconda2\\lib\\site-packages\\nltk\\twitter\\__init__.py:20: UserWarning: The twython library has not been installed. Some functionality from the twitter package will not be available.\n",
      "  warnings.warn(\"The twython library has not been installed. \"\n"
     ]
    }
   ],
   "source": [
    "# Import Statements - Basic\n",
    "from pandas import Series, DataFrame\n",
    "import pandas as pd\n",
    "import numpy as np\n",
    "from collections import defaultdict\n",
    "import itertools\n",
    "import sys\n",
    "import operator\n",
    "\n",
    "# # Import Statements - nltk\n",
    "import nltk\n",
    "from nltk.corpus import stopwords\n",
    "from nltk.corpus import wordnet\n",
    "from nltk import word_tokenize\n",
    "from nltk import collocations\n",
    "from nltk import sentiment\n",
    "from nltk.stem import WordNetLemmatizer\n",
    "from nltk.tokenize import RegexpTokenizer"
   ]
  },
  {
   "cell_type": "markdown",
   "metadata": {},
   "source": [
    "#### Brand Comparisons\n",
    "Find the top 10 brands from frequency counts.  Be sure not to count a mention more than once per post, even if it is mentioned multiple times. Replace models with brands so that from now on you have to deal with only brands and not models.This step is meant to help simplify the analysis. A list of model and brand names (not exhaustive) are provided in a separate file.   "
   ]
  },
  {
   "cell_type": "code",
   "execution_count": 21,
   "metadata": {
    "collapsed": false
   },
   "outputs": [],
   "source": [
    "# Function to clean up make/model list\n",
    "def clean(cell):\n",
    "    cell = cell.lower().rstrip('\\xa0')\n",
    "    return cell\n",
    "\n",
    "# Create Brand List and Attribute List for Replacements\n",
    "model_brand = pd.read_csv('cars make model list.csv',header=None, names = ['brand','model'])\n",
    "\n",
    "model_brand = model_brand.applymap(clean)\n",
    "carlookupdict = model_brand.set_index('model').to_dict()\n",
    "carlookupdict = carlookupdict['brand']\n",
    "\n",
    "brands = list(model_brand['brand'].drop_duplicates())\n",
    "brands.remove('car')\n",
    "brands.remove('seat')\n",
    "brands.remove('problem')\n",
    "brands.remove('sedan')\n",
    "\n",
    "# Key attributes were considered to be performance, price, features, country (German, American, etc.) and words that\n",
    "## fit under that category will be replace with the key attribute\n",
    "attribute_list = pd.read_csv('attribute list.csv', header=None, names = ['word', 'replace'])\n",
    "attributelookupdict = attribute_list.set_index('word').to_dict()\n",
    "attributelookupdict = attributelookupdict['replace']\n",
    "\n",
    "# Function to Tokenize Words \n",
    "def tokenize(line):\n",
    "    \n",
    "    stops = list(set(stopwords.words('english'))) # create list of unique stopwords\n",
    "    tokenizer = RegexpTokenizer(r'\\w+') # create tokenizer to remove punctuation\n",
    "    \n",
    "    list_of_words = list(set(tokenizer.tokenize(line)))\n",
    "    list_of_words = [w for w in list_of_words if w not in stops]\n",
    "    \n",
    "    return list_of_words\n",
    "    "
   ]
  },
  {
   "cell_type": "code",
   "execution_count": 22,
   "metadata": {
    "collapsed": true
   },
   "outputs": [],
   "source": [
    "# Function to read each line\n",
    "def read_input(file):\n",
    "    for line in file:\n",
    "        # split the line into individual fields (fields are delimited by tab).\n",
    "        yield line.lower().strip().split(',',2)\n",
    "\n",
    "# Function to compile word dictionary with each review the word appears in\n",
    "def main():\n",
    "    # input comes from STDIN (standard input)\n",
    "    # data is the generator that produces individual inputs\n",
    "    data = read_input(INPUT)\n",
    "    worddict = {}\n",
    "    i=0\n",
    "    for line in data:\n",
    "        try:\n",
    "            comment = line[2]\n",
    "        except IndexError:\n",
    "            continue\n",
    "            \n",
    "        wordlist = (tokenize(comment))\n",
    "        \n",
    "        for word in set(wordlist):  #replace names of models with names of brands to simplify\n",
    "            if word in carlookupdict.keys():\n",
    "                word = carlookupdict[word] \n",
    "            if word in attributelookupdict.keys():\n",
    "                word = attributelookupdict[word]\n",
    "                \n",
    "            if word in worddict.keys(): #check if index is first a value of word key before adding\n",
    "                if i not in worddict.get(word):\n",
    "                    worddict[word].append(i)\n",
    "            else:\n",
    "                worddict[word] = [i]\n",
    "        i += 1\n",
    "    return worddict        "
   ]
  },
  {
   "cell_type": "code",
   "execution_count": 23,
   "metadata": {
    "collapsed": true
   },
   "outputs": [],
   "source": [
    "# Function to get frequency counts for each word (number of reviews they appear in)\n",
    "def get_freq(d):\n",
    "    \n",
    "    freq_dict = {}\n",
    "    for word in d.keys():\n",
    "        freq_dict[word] = len(d[word])\n",
    "    \n",
    "    word_freq = freq_dict.items()\n",
    "    word_freq.sort(key=operator.itemgetter(1),reverse=True)\n",
    "    \n",
    "    return word_freq\n"
   ]
  },
  {
   "cell_type": "code",
   "execution_count": 24,
   "metadata": {
    "collapsed": true
   },
   "outputs": [],
   "source": [
    "# Function to calculate lift of pairs of words, output is a dataframe \n",
    "def get_lift(items, freq_dict):\n",
    "    lifts = pd.DataFrame(data=None,index=items,columns=items) # initialize empty DF of square matrix\n",
    "    \n",
    "    N = max([item for sublist in freq_dict.values() for item in sublist])  # store number of observations total\n",
    "    \n",
    "    for a, b in itertools.combinations(items, 2): # for each combination of items in list (no repeats):\n",
    "        count_x = len(freq_dict[a]) # get count of x\n",
    "        count_y = len(freq_dict[b]) # get count of y\n",
    "        overlap = len(list(set(freq_dict[a]) & set(freq_dict[b]))) # get count of (x+y) as intersect of index lists\n",
    "\n",
    "        lifts[b][a] = (1.0*overlap*N)/(count_x*count_y) # calc lift and store\n",
    "            \n",
    "    return lifts"
   ]
  },
  {
   "cell_type": "code",
   "execution_count": 25,
   "metadata": {
    "collapsed": true
   },
   "outputs": [],
   "source": [
    "# simple fn to create array from the lift matrix\n",
    "def build_ds_matrix(lift_matrix):\n",
    "    mda = np.zeros(shape = lift_matrix.shape) # initialize square array of zeroes \n",
    "    \n",
    "    # loop through each row/col in lift matrix and do the following:\n",
    "    for i in range(0,len(lift_matrix)):\n",
    "        for j in range(i,len(lift_matrix)):\n",
    "            if i == j:\n",
    "                mda[i,j] = 0 # set the diagonal = 0 (bmw = bmw --> dissimilarity/distance is 0)\n",
    "            else:\n",
    "                mda[i,j] = (1.0)/lift_matrix[lift_matrix.columns[j]][i] # grab 1/lift\n",
    "                mda[j,i] = (1.0)/lift_matrix[lift_matrix.columns[j]][i] # grab 1/lift for the opposite location since it's the same\n",
    "            \n",
    "    return mda"
   ]
  },
  {
   "cell_type": "code",
   "execution_count": 26,
   "metadata": {
    "collapsed": false
   },
   "outputs": [
    {
     "name": "stderr",
     "output_type": "stream",
     "text": [
      "C:\\Users\\Vishwa\\Anaconda2\\lib\\site-packages\\ipykernel\\__main__.py:32: UnicodeWarning: Unicode equal comparison failed to convert both arguments to Unicode - interpreting them as being unequal\n"
     ]
    }
   ],
   "source": [
    "# Create word dictionary from reviews\n",
    "INPUT = open('forum_messages.csv', 'r')\n",
    "worddict = main()"
   ]
  },
  {
   "cell_type": "code",
   "execution_count": 27,
   "metadata": {
    "collapsed": true
   },
   "outputs": [],
   "source": [
    "# Get word frequencies for each word in the set of reviews\n",
    "word_freq = get_freq(worddict)\n",
    "top_brands = [t for t in word_freq if t[0] in brands]"
   ]
  },
  {
   "cell_type": "markdown",
   "metadata": {},
   "source": [
    "Identify top 10 brands by frequency. From the posts, calculate lift ratios for associations between the brands. You will have to write a script to do this task). Show the brands on a multi-dimensional scaling (MDS) map. "
   ]
  },
  {
   "cell_type": "code",
   "execution_count": 28,
   "metadata": {
    "collapsed": false
   },
   "outputs": [
    {
     "data": {
      "text/plain": [
       "[('bmw', 5361),\n",
       " ('acura', 2236),\n",
       " ('audi', 2156),\n",
       " ('honda', 1622),\n",
       " ('infiniti', 1579),\n",
       " ('toyota', 1100),\n",
       " ('nissan', 771),\n",
       " ('volkswagen', 606),\n",
       " ('mercedes-benz', 584),\n",
       " ('ford', 554)]"
      ]
     },
     "execution_count": 28,
     "metadata": {},
     "output_type": "execute_result"
    }
   ],
   "source": [
    "# Gather the top 10 brands\n",
    "top_brands[:10]"
   ]
  },
  {
   "cell_type": "code",
   "execution_count": 29,
   "metadata": {
    "collapsed": true
   },
   "outputs": [],
   "source": [
    "top_10_brands = [x[0] for x in top_brands[:10]]"
   ]
  },
  {
   "cell_type": "code",
   "execution_count": 30,
   "metadata": {
    "collapsed": false
   },
   "outputs": [
    {
     "data": {
      "text/html": [
       "<div>\n",
       "<table border=\"1\" class=\"dataframe\">\n",
       "  <thead>\n",
       "    <tr style=\"text-align: right;\">\n",
       "      <th></th>\n",
       "      <th>Frequency</th>\n",
       "    </tr>\n",
       "    <tr>\n",
       "      <th>Brand</th>\n",
       "      <th></th>\n",
       "    </tr>\n",
       "  </thead>\n",
       "  <tbody>\n",
       "    <tr>\n",
       "      <th>bmw</th>\n",
       "      <td>5361</td>\n",
       "    </tr>\n",
       "    <tr>\n",
       "      <th>acura</th>\n",
       "      <td>2236</td>\n",
       "    </tr>\n",
       "    <tr>\n",
       "      <th>audi</th>\n",
       "      <td>2156</td>\n",
       "    </tr>\n",
       "    <tr>\n",
       "      <th>honda</th>\n",
       "      <td>1622</td>\n",
       "    </tr>\n",
       "    <tr>\n",
       "      <th>infiniti</th>\n",
       "      <td>1579</td>\n",
       "    </tr>\n",
       "    <tr>\n",
       "      <th>toyota</th>\n",
       "      <td>1100</td>\n",
       "    </tr>\n",
       "    <tr>\n",
       "      <th>nissan</th>\n",
       "      <td>771</td>\n",
       "    </tr>\n",
       "    <tr>\n",
       "      <th>volkswagen</th>\n",
       "      <td>606</td>\n",
       "    </tr>\n",
       "    <tr>\n",
       "      <th>mercedes-benz</th>\n",
       "      <td>584</td>\n",
       "    </tr>\n",
       "    <tr>\n",
       "      <th>ford</th>\n",
       "      <td>554</td>\n",
       "    </tr>\n",
       "    <tr>\n",
       "      <th>cadillac</th>\n",
       "      <td>554</td>\n",
       "    </tr>\n",
       "    <tr>\n",
       "      <th>volvo</th>\n",
       "      <td>546</td>\n",
       "    </tr>\n",
       "    <tr>\n",
       "      <th>subaru</th>\n",
       "      <td>409</td>\n",
       "    </tr>\n",
       "    <tr>\n",
       "      <th>chevrolet</th>\n",
       "      <td>409</td>\n",
       "    </tr>\n",
       "    <tr>\n",
       "      <th>hyundai</th>\n",
       "      <td>407</td>\n",
       "    </tr>\n",
       "    <tr>\n",
       "      <th>mazda</th>\n",
       "      <td>288</td>\n",
       "    </tr>\n",
       "    <tr>\n",
       "      <th>lincoln</th>\n",
       "      <td>281</td>\n",
       "    </tr>\n",
       "    <tr>\n",
       "      <th>buick</th>\n",
       "      <td>269</td>\n",
       "    </tr>\n",
       "    <tr>\n",
       "      <th>chrysler</th>\n",
       "      <td>210</td>\n",
       "    </tr>\n",
       "    <tr>\n",
       "      <th>dodge</th>\n",
       "      <td>202</td>\n",
       "    </tr>\n",
       "    <tr>\n",
       "      <th>mercedes</th>\n",
       "      <td>180</td>\n",
       "    </tr>\n",
       "    <tr>\n",
       "      <th>pontiac</th>\n",
       "      <td>159</td>\n",
       "    </tr>\n",
       "    <tr>\n",
       "      <th>volkwagen</th>\n",
       "      <td>127</td>\n",
       "    </tr>\n",
       "    <tr>\n",
       "      <th>kia</th>\n",
       "      <td>93</td>\n",
       "    </tr>\n",
       "    <tr>\n",
       "      <th>mitsubishi</th>\n",
       "      <td>53</td>\n",
       "    </tr>\n",
       "    <tr>\n",
       "      <th>suzuki</th>\n",
       "      <td>43</td>\n",
       "    </tr>\n",
       "    <tr>\n",
       "      <th>saturn</th>\n",
       "      <td>32</td>\n",
       "    </tr>\n",
       "    <tr>\n",
       "      <th>mercury</th>\n",
       "      <td>20</td>\n",
       "    </tr>\n",
       "    <tr>\n",
       "      <th>kia.</th>\n",
       "      <td>12</td>\n",
       "    </tr>\n",
       "  </tbody>\n",
       "</table>\n",
       "</div>"
      ],
      "text/plain": [
       "               Frequency\n",
       "Brand                   \n",
       "bmw                 5361\n",
       "acura               2236\n",
       "audi                2156\n",
       "honda               1622\n",
       "infiniti            1579\n",
       "toyota              1100\n",
       "nissan               771\n",
       "volkswagen           606\n",
       "mercedes-benz        584\n",
       "ford                 554\n",
       "cadillac             554\n",
       "volvo                546\n",
       "subaru               409\n",
       "chevrolet            409\n",
       "hyundai              407\n",
       "mazda                288\n",
       "lincoln              281\n",
       "buick                269\n",
       "chrysler             210\n",
       "dodge                202\n",
       "mercedes             180\n",
       "pontiac              159\n",
       "volkwagen            127\n",
       "kia                   93\n",
       "mitsubishi            53\n",
       "suzuki                43\n",
       "saturn                32\n",
       "mercury               20\n",
       "kia.                  12"
      ]
     },
     "execution_count": 30,
     "metadata": {},
     "output_type": "execute_result"
    }
   ],
   "source": [
    "df_brand_freq = pd.DataFrame(top_brands)\n",
    "df_brand_freq.columns = [['Brand', 'Frequency']]\n",
    "df_brand_freq = df_brand_freq.set_index('Brand')\n",
    "df_brand_freq"
   ]
  },
  {
   "cell_type": "code",
   "execution_count": 31,
   "metadata": {
    "collapsed": false
   },
   "outputs": [
    {
     "data": {
      "text/html": [
       "<div>\n",
       "<table border=\"1\" class=\"dataframe\">\n",
       "  <thead>\n",
       "    <tr style=\"text-align: right;\">\n",
       "      <th></th>\n",
       "      <th>bmw</th>\n",
       "      <th>acura</th>\n",
       "      <th>audi</th>\n",
       "      <th>honda</th>\n",
       "      <th>infiniti</th>\n",
       "      <th>toyota</th>\n",
       "      <th>nissan</th>\n",
       "      <th>volkswagen</th>\n",
       "      <th>mercedes-benz</th>\n",
       "      <th>ford</th>\n",
       "    </tr>\n",
       "  </thead>\n",
       "  <tbody>\n",
       "    <tr>\n",
       "      <th>bmw</th>\n",
       "      <td>-</td>\n",
       "      <td>1.38374</td>\n",
       "      <td>1.70812</td>\n",
       "      <td>1.24865</td>\n",
       "      <td>1.79306</td>\n",
       "      <td>1.48443</td>\n",
       "      <td>1.21345</td>\n",
       "      <td>1.45133</td>\n",
       "      <td>2.16601</td>\n",
       "      <td>1.49901</td>\n",
       "    </tr>\n",
       "    <tr>\n",
       "      <th>acura</th>\n",
       "      <td>-</td>\n",
       "      <td>-</td>\n",
       "      <td>2.21719</td>\n",
       "      <td>3.24237</td>\n",
       "      <td>2.97951</td>\n",
       "      <td>1.70314</td>\n",
       "      <td>2.03764</td>\n",
       "      <td>1.81609</td>\n",
       "      <td>2.30169</td>\n",
       "      <td>1.4103</td>\n",
       "    </tr>\n",
       "    <tr>\n",
       "      <th>audi</th>\n",
       "      <td>-</td>\n",
       "      <td>-</td>\n",
       "      <td>-</td>\n",
       "      <td>1.60077</td>\n",
       "      <td>2.38377</td>\n",
       "      <td>1.52872</td>\n",
       "      <td>1.25439</td>\n",
       "      <td>3.82447</td>\n",
       "      <td>3.37177</td>\n",
       "      <td>1.50982</td>\n",
       "    </tr>\n",
       "    <tr>\n",
       "      <th>honda</th>\n",
       "      <td>-</td>\n",
       "      <td>-</td>\n",
       "      <td>-</td>\n",
       "      <td>-</td>\n",
       "      <td>1.51093</td>\n",
       "      <td>3.70604</td>\n",
       "      <td>3.33472</td>\n",
       "      <td>2.42712</td>\n",
       "      <td>2.12193</td>\n",
       "      <td>2.5086</td>\n",
       "    </tr>\n",
       "    <tr>\n",
       "      <th>infiniti</th>\n",
       "      <td>-</td>\n",
       "      <td>-</td>\n",
       "      <td>-</td>\n",
       "      <td>-</td>\n",
       "      <td>-</td>\n",
       "      <td>1.89267</td>\n",
       "      <td>3.50268</td>\n",
       "      <td>1.90427</td>\n",
       "      <td>2.99456</td>\n",
       "      <td>1.46025</td>\n",
       "    </tr>\n",
       "    <tr>\n",
       "      <th>toyota</th>\n",
       "      <td>-</td>\n",
       "      <td>-</td>\n",
       "      <td>-</td>\n",
       "      <td>-</td>\n",
       "      <td>-</td>\n",
       "      <td>-</td>\n",
       "      <td>4.14196</td>\n",
       "      <td>2.1417</td>\n",
       "      <td>2.74874</td>\n",
       "      <td>2.89759</td>\n",
       "    </tr>\n",
       "    <tr>\n",
       "      <th>nissan</th>\n",
       "      <td>-</td>\n",
       "      <td>-</td>\n",
       "      <td>-</td>\n",
       "      <td>-</td>\n",
       "      <td>-</td>\n",
       "      <td>-</td>\n",
       "      <td>-</td>\n",
       "      <td>2.69376</td>\n",
       "      <td>1.8774</td>\n",
       "      <td>2.50681</td>\n",
       "    </tr>\n",
       "    <tr>\n",
       "      <th>volkswagen</th>\n",
       "      <td>-</td>\n",
       "      <td>-</td>\n",
       "      <td>-</td>\n",
       "      <td>-</td>\n",
       "      <td>-</td>\n",
       "      <td>-</td>\n",
       "      <td>-</td>\n",
       "      <td>-</td>\n",
       "      <td>2.91937</td>\n",
       "      <td>3.13341</td>\n",
       "    </tr>\n",
       "    <tr>\n",
       "      <th>mercedes-benz</th>\n",
       "      <td>-</td>\n",
       "      <td>-</td>\n",
       "      <td>-</td>\n",
       "      <td>-</td>\n",
       "      <td>-</td>\n",
       "      <td>-</td>\n",
       "      <td>-</td>\n",
       "      <td>-</td>\n",
       "      <td>-</td>\n",
       "      <td>2.67083</td>\n",
       "    </tr>\n",
       "    <tr>\n",
       "      <th>ford</th>\n",
       "      <td>-</td>\n",
       "      <td>-</td>\n",
       "      <td>-</td>\n",
       "      <td>-</td>\n",
       "      <td>-</td>\n",
       "      <td>-</td>\n",
       "      <td>-</td>\n",
       "      <td>-</td>\n",
       "      <td>-</td>\n",
       "      <td>-</td>\n",
       "    </tr>\n",
       "  </tbody>\n",
       "</table>\n",
       "</div>"
      ],
      "text/plain": [
       "              bmw    acura     audi    honda infiniti   toyota   nissan  \\\n",
       "bmw             -  1.38374  1.70812  1.24865  1.79306  1.48443  1.21345   \n",
       "acura           -        -  2.21719  3.24237  2.97951  1.70314  2.03764   \n",
       "audi            -        -        -  1.60077  2.38377  1.52872  1.25439   \n",
       "honda           -        -        -        -  1.51093  3.70604  3.33472   \n",
       "infiniti        -        -        -        -        -  1.89267  3.50268   \n",
       "toyota          -        -        -        -        -        -  4.14196   \n",
       "nissan          -        -        -        -        -        -        -   \n",
       "volkswagen      -        -        -        -        -        -        -   \n",
       "mercedes-benz   -        -        -        -        -        -        -   \n",
       "ford            -        -        -        -        -        -        -   \n",
       "\n",
       "              volkswagen mercedes-benz     ford  \n",
       "bmw              1.45133       2.16601  1.49901  \n",
       "acura            1.81609       2.30169   1.4103  \n",
       "audi             3.82447       3.37177  1.50982  \n",
       "honda            2.42712       2.12193   2.5086  \n",
       "infiniti         1.90427       2.99456  1.46025  \n",
       "toyota            2.1417       2.74874  2.89759  \n",
       "nissan           2.69376        1.8774  2.50681  \n",
       "volkswagen             -       2.91937  3.13341  \n",
       "mercedes-benz          -             -  2.67083  \n",
       "ford                   -             -        -  "
      ]
     },
     "execution_count": 31,
     "metadata": {},
     "output_type": "execute_result"
    }
   ],
   "source": [
    "liftmat = get_lift((top_10_brands), worddict)\n",
    "liftmat_dash = liftmat.copy()\n",
    "liftmat_dash.fillna('-', inplace=True)\n",
    "liftmat_dash"
   ]
  },
  {
   "cell_type": "code",
   "execution_count": 32,
   "metadata": {
    "collapsed": false
   },
   "outputs": [
    {
     "name": "stderr",
     "output_type": "stream",
     "text": [
      "C:\\Users\\Vishwa\\Anaconda2\\lib\\site-packages\\sklearn\\manifold\\mds.py:396: UserWarning: The MDS API has changed. ``fit`` now constructs an dissimilarity matrix from data. To use a custom dissimilarity matrix, set ``dissimilarity='precomputed'``.\n",
      "  warnings.warn(\"The MDS API has changed. ``fit`` now constructs an\"\n"
     ]
    }
   ],
   "source": [
    "#Building the MDS map\n",
    "mda = build_ds_matrix(liftmat)\n",
    "\n",
    "# import package\n",
    "from sklearn.manifold import MDS\n",
    "\n",
    "# initialize fit object \n",
    "mds1 = MDS(n_components=2, metric=True, n_init=4, max_iter=300, verbose=0, eps=0.001, n_jobs=1, random_state=None, dissimilarity='euclidean')\n",
    "md_coords = mds1.fit_transform(mda)\n"
   ]
  },
  {
   "cell_type": "code",
   "execution_count": 33,
   "metadata": {
    "collapsed": false
   },
   "outputs": [
    {
     "data": {
      "image/png": "[encoded data removed]",
      "text/plain": [
       "<matplotlib.figure.Figure at 0x53251ac8>"
      ]
     },
     "metadata": {},
     "output_type": "display_data"
    }
   ],
   "source": [
    "import matplotlib.pyplot as plt\n",
    "import seaborn\n",
    "%matplotlib inline\n",
    "\n",
    "fig = plt.figure(1)\n",
    "ax = plt.axes([0., 0., 1., 1.])\n",
    "\n",
    "labels = top_10_brands\n",
    "\n",
    "s = 100\n",
    "plt.scatter(md_coords[:, 0], md_coords[:, 1], color='navy', s=s, lw=0,\n",
    "            label='MDS')\n",
    "plt.legend(scatterpoints=1, loc='best', shadow=False)\n",
    "\n",
    "\n",
    "for label, x, y in zip(labels, md_coords[:, 0], md_coords[:, 1]):\n",
    "    plt.annotate(\n",
    "        label,\n",
    "        xy=(x, y), xytext=(-20, 20),\n",
    "        textcoords='offset points', ha='right', va='bottom',\n",
    "        bbox=dict(boxstyle='round,pad=0.5', fc='white', alpha=0.5),\n",
    "        arrowprops=dict(arrowstyle = '->', connectionstyle='arc3,rad=0'))\n",
    "\n",
    "plt.show()"
   ]
  },
  {
   "cell_type": "markdown",
   "metadata": {},
   "source": [
    "From this MDS chart, we can see that Acura and Infiniti are often compared to each other.  That being said, customers may be likely to switch between the two brands. We can also see the three major Japanese value brands - Honda, Nissan, and Toyota - all located near each other and away from the European luxury brands (BMW, Audi, etc.)."
   ]
  },
  {
   "cell_type": "markdown",
   "metadata": {},
   "source": [
    "#### Attribute-brand lifts\n",
    "What are 5 most frequently mentioned attributes of cars in the discussions? Note that the same attribute may be described by different words – e.g., pick-up and acceleration may both refer to a more general attribute, “performance”. We made these replacements above. Now pick the 5 most frequently mentioned brands. Which attributes are most strongly associated with which of these 5 brands?"
   ]
  },
  {
   "cell_type": "code",
   "execution_count": 34,
   "metadata": {
    "collapsed": true
   },
   "outputs": [],
   "source": [
    "top_words = [t for t in word_freq]\n",
    "top_words.sort(key=lambda x: x[1], reverse=True)"
   ]
  },
  {
   "cell_type": "markdown",
   "metadata": {},
   "source": [
    "The 5 most important features for a car:\n",
    "1. Performance (8,000+ mentions)\n",
    "2. Quality (6,800+ mentions)\n",
    "3. Features (5,500+ mentions)\n",
    "4. Price (4,600+ mentions)\n",
    "5. Fuel/Oil Efficiency (1,400+ mentions)  \n",
    "\n",
    "Comparing these with the top 5 brands:\n",
    "1. BMW\n",
    "2. Acura\n",
    "3. Audi\n",
    "4. Honda\n",
    "5. Infiniti"
   ]
  },
  {
   "cell_type": "code",
   "execution_count": 35,
   "metadata": {
    "collapsed": false
   },
   "outputs": [
    {
     "data": {
      "text/html": [
       "<div>\n",
       "<table border=\"1\" class=\"dataframe\">\n",
       "  <thead>\n",
       "    <tr style=\"text-align: right;\">\n",
       "      <th></th>\n",
       "      <th>bmw</th>\n",
       "      <th>acura</th>\n",
       "      <th>audi</th>\n",
       "      <th>honda</th>\n",
       "      <th>infiniti</th>\n",
       "    </tr>\n",
       "  </thead>\n",
       "  <tbody>\n",
       "    <tr>\n",
       "      <th>performance</th>\n",
       "      <td>1.38614</td>\n",
       "      <td>1.34758</td>\n",
       "      <td>1.40966</td>\n",
       "      <td>1.39327</td>\n",
       "      <td>1.41321</td>\n",
       "    </tr>\n",
       "    <tr>\n",
       "      <th>quality</th>\n",
       "      <td>1.36742</td>\n",
       "      <td>1.50347</td>\n",
       "      <td>1.54005</td>\n",
       "      <td>1.59784</td>\n",
       "      <td>1.50851</td>\n",
       "    </tr>\n",
       "    <tr>\n",
       "      <th>features</th>\n",
       "      <td>1.41186</td>\n",
       "      <td>1.40803</td>\n",
       "      <td>1.6255</td>\n",
       "      <td>1.40767</td>\n",
       "      <td>1.56633</td>\n",
       "    </tr>\n",
       "    <tr>\n",
       "      <th>price</th>\n",
       "      <td>1.59891</td>\n",
       "      <td>1.6806</td>\n",
       "      <td>1.66132</td>\n",
       "      <td>1.62023</td>\n",
       "      <td>1.82768</td>\n",
       "    </tr>\n",
       "    <tr>\n",
       "      <th>fuel</th>\n",
       "      <td>1.39915</td>\n",
       "      <td>1.18501</td>\n",
       "      <td>1.36961</td>\n",
       "      <td>1.71486</td>\n",
       "      <td>1.71147</td>\n",
       "    </tr>\n",
       "  </tbody>\n",
       "</table>\n",
       "</div>"
      ],
      "text/plain": [
       "                 bmw    acura     audi    honda infiniti\n",
       "performance  1.38614  1.34758  1.40966  1.39327  1.41321\n",
       "quality      1.36742  1.50347  1.54005  1.59784  1.50851\n",
       "features     1.41186  1.40803   1.6255  1.40767  1.56633\n",
       "price        1.59891   1.6806  1.66132  1.62023  1.82768\n",
       "fuel         1.39915  1.18501  1.36961  1.71486  1.71147"
      ]
     },
     "execution_count": 35,
     "metadata": {},
     "output_type": "execute_result"
    }
   ],
   "source": [
    "att_brand_lift = get_lift(('performance', 'quality', 'features', 'price', 'fuel', 'bmw', 'acura', 'audi', 'honda', 'infiniti'), worddict)\n",
    "att_brand_lift.fillna('-')\n",
    "att_brand_lift = att_brand_lift[['bmw', 'acura', 'audi', 'honda', 'infiniti']]\n",
    "att_brand_lift[:5]"
   ]
  },
  {
   "cell_type": "markdown",
   "metadata": {},
   "source": [
    "Given only these lift scores, we cannot know the sentiment associated with the attributes.  If we were to assume a positive sentiment, it seems that customers would associate high performance with Infiniti, high quality with Honda, diversity of features with Audi, good price with Infiniti, and fuel efficiency with Infiniti.   If a brand has a high lift score with any of these attributes, the advertising/marketing manager could reiterate these attributes in campaigns or promotions.  The low lift scores of fuel, features, quality, or performance could alert the product manager that those areas need improvement.\n",
    "\n",
    "Another way an advertising manager could use this information is to compare itself to a similar brand and exploit its strengths over the similar brand.  For example, in the lift chart and MDS map we saw that Acura and Infiniti were often compared together in messages.  For an advertising manager at Infiniti, they could capitalize on this by targeting their ads comparing themselves to Acura and all of the ways they are superior.  According to the attribute lift scores above, Infiniti is more often described by performance, quality, features, and fuel.  Assuming positive sentiment, this is a great way for promoting your own product and differentiating yourself to customers who are choosing between the two brands.\n"
   ]
  },
  {
   "cell_type": "code",
   "execution_count": null,
   "metadata": {
    "collapsed": true
   },
   "outputs": [],
   "source": []
  }
 ],
 "metadata": {
  "anaconda-cloud": {},
  "kernelspec": {
   "display_name": "Python [Root]",
   "language": "python",
   "name": "Python [Root]"
  },
  "language_info": {
   "codemirror_mode": {
    "name": "ipython",
    "version": 2
   },
   "file_extension": ".py",
   "mimetype": "text/x-python",
   "name": "python",
   "nbconvert_exporter": "python",
   "pygments_lexer": "ipython2",
   "version": "2.7.11"
  }
 },
 "nbformat": 4,
 "nbformat_minor": 0
}
